{
  "cells": [
    {
      "cell_type": "code",
      "execution_count": null,
      "metadata": {
        "id": "UfS9klMysiJe"
      },
      "outputs": [],
      "source": [
        "import pandas as pd\n",
        "import numpy as np\n",
        "\n",
        "import seaborn as sns\n",
        "import matplotlib.pyplot as plt\n",
        "\n",
        "import plotly.express as px\n",
        "import plotly.graph_objects as go\n",
        "import plotly.figure_factory as ff\n",
        "\n",
        "from sklearn.model_selection import train_test_split\n",
        "from sklearn.preprocessing import StandardScaler   # u otros scalers\n",
        "from sklearn.linear_model import LinearRegression, Lasso, Ridge, ElasticNet, LassoCV, RidgeCV, ElasticNetCV\n",
        "from sklearn.metrics import mean_squared_error, r2_score"
      ]
    },
    {
      "cell_type": "code",
      "execution_count": null,
      "metadata": {
        "id": "Etu10JAIsiJk"
      },
      "outputs": [],
      "source": [
        "### carga datos de dataset en dataframe\n",
        "file_path= 'uber_fares.csv'\n",
        "\n",
        "df = pd.read_csv(file_path)"
      ]
    },
    {
      "cell_type": "code",
      "execution_count": null,
      "metadata": {
        "id": "E4wFXcfZsiJm",
        "outputId": "26d5e365-cdcd-48ff-df86-65ef8a784b32"
      },
      "outputs": [
        {
          "data": {
            "application/vnd.microsoft.datawrangler.viewer.v0+json": {
              "columns": [
                {
                  "name": "index",
                  "rawType": "int64",
                  "type": "integer"
                },
                {
                  "name": "key",
                  "rawType": "int64",
                  "type": "integer"
                },
                {
                  "name": "date",
                  "rawType": "object",
                  "type": "string"
                },
                {
                  "name": "fare_amount",
                  "rawType": "float64",
                  "type": "float"
                },
                {
                  "name": "pickup_datetime",
                  "rawType": "object",
                  "type": "string"
                },
                {
                  "name": "pickup_longitude",
                  "rawType": "float64",
                  "type": "float"
                },
                {
                  "name": "pickup_latitude",
                  "rawType": "float64",
                  "type": "float"
                },
                {
                  "name": "dropoff_longitude",
                  "rawType": "float64",
                  "type": "float"
                },
                {
                  "name": "dropoff_latitude",
                  "rawType": "float64",
                  "type": "float"
                },
                {
                  "name": "passenger_count",
                  "rawType": "int64",
                  "type": "integer"
                }
              ],
              "conversionMethod": "pd.DataFrame",
              "ref": "571d6275-92b4-4068-9888-d8b9c3d599f0",
              "rows": [
                [
                  "0",
                  "24238194",
                  "2015-05-07 19:52:06.0000003",
                  "7.5",
                  "2015-05-07 19:52:06 UTC",
                  "-73.99981689453125",
                  "40.73835372924805",
                  "-73.99951171875",
                  "40.72321701049805",
                  "1"
                ],
                [
                  "1",
                  "27835199",
                  "2009-07-17 20:04:56.0000002",
                  "7.7",
                  "2009-07-17 20:04:56 UTC",
                  "-73.994355",
                  "40.728225",
                  "-73.99471",
                  "40.750325",
                  "1"
                ],
                [
                  "2",
                  "44984355",
                  "2009-08-24 21:45:00.00000061",
                  "12.9",
                  "2009-08-24 21:45:00 UTC",
                  "-74.005043",
                  "40.74077",
                  "-73.962565",
                  "40.772647",
                  "1"
                ],
                [
                  "3",
                  "25894730",
                  "2009-06-26 08:22:21.0000001",
                  "5.3",
                  "2009-06-26 08:22:21 UTC",
                  "-73.976124",
                  "40.790844",
                  "-73.965316",
                  "40.803349",
                  "3"
                ],
                [
                  "4",
                  "17610152",
                  "2014-08-28 17:47:00.000000188",
                  "16.0",
                  "2014-08-28 17:47:00 UTC",
                  "-73.925023",
                  "40.744085",
                  "-73.97308199999999",
                  "40.761247",
                  "5"
                ]
              ],
              "shape": {
                "columns": 9,
                "rows": 5
              }
            },
            "text/html": [
              "<div>\n",
              "<style scoped>\n",
              "    .dataframe tbody tr th:only-of-type {\n",
              "        vertical-align: middle;\n",
              "    }\n",
              "\n",
              "    .dataframe tbody tr th {\n",
              "        vertical-align: top;\n",
              "    }\n",
              "\n",
              "    .dataframe thead th {\n",
              "        text-align: right;\n",
              "    }\n",
              "</style>\n",
              "<table border=\"1\" class=\"dataframe\">\n",
              "  <thead>\n",
              "    <tr style=\"text-align: right;\">\n",
              "      <th></th>\n",
              "      <th>key</th>\n",
              "      <th>date</th>\n",
              "      <th>fare_amount</th>\n",
              "      <th>pickup_datetime</th>\n",
              "      <th>pickup_longitude</th>\n",
              "      <th>pickup_latitude</th>\n",
              "      <th>dropoff_longitude</th>\n",
              "      <th>dropoff_latitude</th>\n",
              "      <th>passenger_count</th>\n",
              "    </tr>\n",
              "  </thead>\n",
              "  <tbody>\n",
              "    <tr>\n",
              "      <th>0</th>\n",
              "      <td>24238194</td>\n",
              "      <td>2015-05-07 19:52:06.0000003</td>\n",
              "      <td>7.5</td>\n",
              "      <td>2015-05-07 19:52:06 UTC</td>\n",
              "      <td>-73.999817</td>\n",
              "      <td>40.738354</td>\n",
              "      <td>-73.999512</td>\n",
              "      <td>40.723217</td>\n",
              "      <td>1</td>\n",
              "    </tr>\n",
              "    <tr>\n",
              "      <th>1</th>\n",
              "      <td>27835199</td>\n",
              "      <td>2009-07-17 20:04:56.0000002</td>\n",
              "      <td>7.7</td>\n",
              "      <td>2009-07-17 20:04:56 UTC</td>\n",
              "      <td>-73.994355</td>\n",
              "      <td>40.728225</td>\n",
              "      <td>-73.994710</td>\n",
              "      <td>40.750325</td>\n",
              "      <td>1</td>\n",
              "    </tr>\n",
              "    <tr>\n",
              "      <th>2</th>\n",
              "      <td>44984355</td>\n",
              "      <td>2009-08-24 21:45:00.00000061</td>\n",
              "      <td>12.9</td>\n",
              "      <td>2009-08-24 21:45:00 UTC</td>\n",
              "      <td>-74.005043</td>\n",
              "      <td>40.740770</td>\n",
              "      <td>-73.962565</td>\n",
              "      <td>40.772647</td>\n",
              "      <td>1</td>\n",
              "    </tr>\n",
              "    <tr>\n",
              "      <th>3</th>\n",
              "      <td>25894730</td>\n",
              "      <td>2009-06-26 08:22:21.0000001</td>\n",
              "      <td>5.3</td>\n",
              "      <td>2009-06-26 08:22:21 UTC</td>\n",
              "      <td>-73.976124</td>\n",
              "      <td>40.790844</td>\n",
              "      <td>-73.965316</td>\n",
              "      <td>40.803349</td>\n",
              "      <td>3</td>\n",
              "    </tr>\n",
              "    <tr>\n",
              "      <th>4</th>\n",
              "      <td>17610152</td>\n",
              "      <td>2014-08-28 17:47:00.000000188</td>\n",
              "      <td>16.0</td>\n",
              "      <td>2014-08-28 17:47:00 UTC</td>\n",
              "      <td>-73.925023</td>\n",
              "      <td>40.744085</td>\n",
              "      <td>-73.973082</td>\n",
              "      <td>40.761247</td>\n",
              "      <td>5</td>\n",
              "    </tr>\n",
              "  </tbody>\n",
              "</table>\n",
              "</div>"
            ],
            "text/plain": [
              "        key                           date  fare_amount  \\\n",
              "0  24238194    2015-05-07 19:52:06.0000003          7.5   \n",
              "1  27835199    2009-07-17 20:04:56.0000002          7.7   \n",
              "2  44984355   2009-08-24 21:45:00.00000061         12.9   \n",
              "3  25894730    2009-06-26 08:22:21.0000001          5.3   \n",
              "4  17610152  2014-08-28 17:47:00.000000188         16.0   \n",
              "\n",
              "           pickup_datetime  pickup_longitude  pickup_latitude  \\\n",
              "0  2015-05-07 19:52:06 UTC        -73.999817        40.738354   \n",
              "1  2009-07-17 20:04:56 UTC        -73.994355        40.728225   \n",
              "2  2009-08-24 21:45:00 UTC        -74.005043        40.740770   \n",
              "3  2009-06-26 08:22:21 UTC        -73.976124        40.790844   \n",
              "4  2014-08-28 17:47:00 UTC        -73.925023        40.744085   \n",
              "\n",
              "   dropoff_longitude  dropoff_latitude  passenger_count  \n",
              "0         -73.999512         40.723217                1  \n",
              "1         -73.994710         40.750325                1  \n",
              "2         -73.962565         40.772647                1  \n",
              "3         -73.965316         40.803349                3  \n",
              "4         -73.973082         40.761247                5  "
            ]
          },
          "execution_count": 3,
          "metadata": {},
          "output_type": "execute_result"
        }
      ],
      "source": [
        "### visualizacion de algunos datos\n",
        "df.head()"
      ]
    },
    {
      "cell_type": "markdown",
      "metadata": {
        "id": "xd_uOYe1siJn"
      },
      "source": [
        "#### Contexto  \n",
        "El proyecto trata sobre **Uber Inc.**, la compañía de taxis más grande del mundo. En este trabajo, nuestro objetivo es **predecir la tarifa de futuros viajes**.  \n",
        "\n",
        "Uber brinda servicio a millones de clientes cada día, por lo que gestionar adecuadamente sus datos es clave para desarrollar nuevas estrategias de negocio y obtener mejores resultados.  \n",
        "\n",
        "### Variables del conjunto de datos  \n",
        "\n",
        "**Variables explicativas:**  \n",
        "- **key**: identificador único de cada viaje.  \n",
        "- **pickup_datetime**: fecha y hora en que se inició el viaje.  \n",
        "- **passenger_count**: cantidad de pasajeros en el vehículo (dato ingresado por el conductor).  \n",
        "- **pickup_longitude**: longitud del punto de inicio del viaje.  \n",
        "- **pickup_latitude**: latitud del punto de inicio del viaje.  \n",
        "- **dropoff_longitude**: longitud del punto de destino.  \n",
        "- **dropoff_latitude**: latitud del punto de destino.  \n",
        "\n",
        "**Variable objetivo (target):**  \n",
        "- **fare_amount**: costo del viaje en dólares.  "
      ]
    },
    {
      "cell_type": "code",
      "execution_count": null,
      "metadata": {
        "id": "tf2N8kt_siJp",
        "outputId": "8b0f80b4-5783-4e13-cc89-aa7416b0f0f3"
      },
      "outputs": [
        {
          "data": {
            "text/plain": [
              "Index(['key', 'date', 'fare_amount', 'pickup_datetime', 'pickup_longitude',\n",
              "       'pickup_latitude', 'dropoff_longitude', 'dropoff_latitude',\n",
              "       'passenger_count'],\n",
              "      dtype='object')"
            ]
          },
          "execution_count": 6,
          "metadata": {},
          "output_type": "execute_result"
        }
      ],
      "source": [
        "### Columnas, ¿cuáles son variables numéricas y cuales variables categóricas?\n",
        "df.columns"
      ]
    },
    {
      "cell_type": "code",
      "execution_count": null,
      "metadata": {
        "id": "4G7p47V_siJq",
        "outputId": "a7eb128e-f4ae-4332-c92d-162cc8733da7"
      },
      "outputs": [
        {
          "name": "stdout",
          "output_type": "stream",
          "text": [
            "<class 'pandas.core.frame.DataFrame'>\n",
            "RangeIndex: 200000 entries, 0 to 199999\n",
            "Data columns (total 9 columns):\n",
            " #   Column             Non-Null Count   Dtype  \n",
            "---  ------             --------------   -----  \n",
            " 0   key                200000 non-null  int64  \n",
            " 1   date               200000 non-null  object \n",
            " 2   fare_amount        200000 non-null  float64\n",
            " 3   pickup_datetime    200000 non-null  object \n",
            " 4   pickup_longitude   200000 non-null  float64\n",
            " 5   pickup_latitude    200000 non-null  float64\n",
            " 6   dropoff_longitude  199999 non-null  float64\n",
            " 7   dropoff_latitude   199999 non-null  float64\n",
            " 8   passenger_count    200000 non-null  int64  \n",
            "dtypes: float64(5), int64(2), object(2)\n",
            "memory usage: 13.7+ MB\n"
          ]
        }
      ],
      "source": [
        "df.info()"
      ]
    },
    {
      "cell_type": "code",
      "execution_count": null,
      "metadata": {
        "id": "R5wJn1kQsiJr"
      },
      "outputs": [],
      "source": [
        "X_train, X_test, y_train, y_test = train_test_split(df.drop(columns='fare_amount'), df['fare_amount'], test_size=0.2, random_state=42)"
      ]
    },
    {
      "cell_type": "code",
      "execution_count": null,
      "metadata": {
        "id": "hW-QZN1ysiJr",
        "outputId": "34124413-5a9d-4a42-f173-2e7cf5879880"
      },
      "outputs": [
        {
          "data": {
            "application/vnd.microsoft.datawrangler.viewer.v0+json": {
              "columns": [
                {
                  "name": "index",
                  "rawType": "object",
                  "type": "string"
                },
                {
                  "name": "key",
                  "rawType": "float64",
                  "type": "float"
                },
                {
                  "name": "pickup_longitude",
                  "rawType": "float64",
                  "type": "float"
                },
                {
                  "name": "pickup_latitude",
                  "rawType": "float64",
                  "type": "float"
                },
                {
                  "name": "dropoff_longitude",
                  "rawType": "float64",
                  "type": "float"
                },
                {
                  "name": "dropoff_latitude",
                  "rawType": "float64",
                  "type": "float"
                },
                {
                  "name": "passenger_count",
                  "rawType": "float64",
                  "type": "float"
                }
              ],
              "conversionMethod": "pd.DataFrame",
              "ref": "3b2be1a0-ac19-4cd8-9810-17e439220ac3",
              "rows": [
                [
                  "count",
                  "160000.0",
                  "160000.0",
                  "160000.0",
                  "159999.0",
                  "159999.0",
                  "160000.0"
                ],
                [
                  "mean",
                  "27712332.79875625",
                  "-72.52589617695614",
                  "39.936264841971294",
                  "-72.52526015580202",
                  "39.919257629531295",
                  "1.6849875"
                ],
                [
                  "std",
                  "16032178.16262846",
                  "11.557752549149658",
                  "8.090121052047964",
                  "13.611270633953966",
                  "6.880319813582267",
                  "1.4056864780452347"
                ],
                [
                  "min",
                  "1.0",
                  "-1340.64841",
                  "-74.01551500000001",
                  "-3356.6663",
                  "-881.9855130000001",
                  "0.0"
                ],
                [
                  "25%",
                  "13793257.25",
                  "-73.99206225",
                  "40.7348415",
                  "-73.9914325949707",
                  "40.733835",
                  "1.0"
                ],
                [
                  "50%",
                  "27756078.0",
                  "-73.98183399999999",
                  "40.7525935",
                  "-73.98008",
                  "40.753044",
                  "1.0"
                ],
                [
                  "75%",
                  "41558451.75",
                  "-73.9672115",
                  "40.76711613665771",
                  "-73.96361350000001",
                  "40.768055",
                  "2.0"
                ],
                [
                  "max",
                  "55423567.0",
                  "57.418457",
                  "1644.421482",
                  "1153.5726029999998",
                  "872.6976279999999",
                  "208.0"
                ]
              ],
              "shape": {
                "columns": 6,
                "rows": 8
              }
            },
            "text/html": [
              "<div>\n",
              "<style scoped>\n",
              "    .dataframe tbody tr th:only-of-type {\n",
              "        vertical-align: middle;\n",
              "    }\n",
              "\n",
              "    .dataframe tbody tr th {\n",
              "        vertical-align: top;\n",
              "    }\n",
              "\n",
              "    .dataframe thead th {\n",
              "        text-align: right;\n",
              "    }\n",
              "</style>\n",
              "<table border=\"1\" class=\"dataframe\">\n",
              "  <thead>\n",
              "    <tr style=\"text-align: right;\">\n",
              "      <th></th>\n",
              "      <th>key</th>\n",
              "      <th>pickup_longitude</th>\n",
              "      <th>pickup_latitude</th>\n",
              "      <th>dropoff_longitude</th>\n",
              "      <th>dropoff_latitude</th>\n",
              "      <th>passenger_count</th>\n",
              "    </tr>\n",
              "  </thead>\n",
              "  <tbody>\n",
              "    <tr>\n",
              "      <th>count</th>\n",
              "      <td>1.600000e+05</td>\n",
              "      <td>160000.000000</td>\n",
              "      <td>160000.000000</td>\n",
              "      <td>159999.000000</td>\n",
              "      <td>159999.000000</td>\n",
              "      <td>160000.000000</td>\n",
              "    </tr>\n",
              "    <tr>\n",
              "      <th>mean</th>\n",
              "      <td>2.771233e+07</td>\n",
              "      <td>-72.525896</td>\n",
              "      <td>39.936265</td>\n",
              "      <td>-72.525260</td>\n",
              "      <td>39.919258</td>\n",
              "      <td>1.684988</td>\n",
              "    </tr>\n",
              "    <tr>\n",
              "      <th>std</th>\n",
              "      <td>1.603218e+07</td>\n",
              "      <td>11.557753</td>\n",
              "      <td>8.090121</td>\n",
              "      <td>13.611271</td>\n",
              "      <td>6.880320</td>\n",
              "      <td>1.405686</td>\n",
              "    </tr>\n",
              "    <tr>\n",
              "      <th>min</th>\n",
              "      <td>1.000000e+00</td>\n",
              "      <td>-1340.648410</td>\n",
              "      <td>-74.015515</td>\n",
              "      <td>-3356.666300</td>\n",
              "      <td>-881.985513</td>\n",
              "      <td>0.000000</td>\n",
              "    </tr>\n",
              "    <tr>\n",
              "      <th>25%</th>\n",
              "      <td>1.379326e+07</td>\n",
              "      <td>-73.992062</td>\n",
              "      <td>40.734842</td>\n",
              "      <td>-73.991433</td>\n",
              "      <td>40.733835</td>\n",
              "      <td>1.000000</td>\n",
              "    </tr>\n",
              "    <tr>\n",
              "      <th>50%</th>\n",
              "      <td>2.775608e+07</td>\n",
              "      <td>-73.981834</td>\n",
              "      <td>40.752594</td>\n",
              "      <td>-73.980080</td>\n",
              "      <td>40.753044</td>\n",
              "      <td>1.000000</td>\n",
              "    </tr>\n",
              "    <tr>\n",
              "      <th>75%</th>\n",
              "      <td>4.155845e+07</td>\n",
              "      <td>-73.967212</td>\n",
              "      <td>40.767116</td>\n",
              "      <td>-73.963614</td>\n",
              "      <td>40.768055</td>\n",
              "      <td>2.000000</td>\n",
              "    </tr>\n",
              "    <tr>\n",
              "      <th>max</th>\n",
              "      <td>5.542357e+07</td>\n",
              "      <td>57.418457</td>\n",
              "      <td>1644.421482</td>\n",
              "      <td>1153.572603</td>\n",
              "      <td>872.697628</td>\n",
              "      <td>208.000000</td>\n",
              "    </tr>\n",
              "  </tbody>\n",
              "</table>\n",
              "</div>"
            ],
            "text/plain": [
              "                key  pickup_longitude  pickup_latitude  dropoff_longitude  \\\n",
              "count  1.600000e+05     160000.000000    160000.000000      159999.000000   \n",
              "mean   2.771233e+07        -72.525896        39.936265         -72.525260   \n",
              "std    1.603218e+07         11.557753         8.090121          13.611271   \n",
              "min    1.000000e+00      -1340.648410       -74.015515       -3356.666300   \n",
              "25%    1.379326e+07        -73.992062        40.734842         -73.991433   \n",
              "50%    2.775608e+07        -73.981834        40.752594         -73.980080   \n",
              "75%    4.155845e+07        -73.967212        40.767116         -73.963614   \n",
              "max    5.542357e+07         57.418457      1644.421482        1153.572603   \n",
              "\n",
              "       dropoff_latitude  passenger_count  \n",
              "count     159999.000000    160000.000000  \n",
              "mean          39.919258         1.684988  \n",
              "std            6.880320         1.405686  \n",
              "min         -881.985513         0.000000  \n",
              "25%           40.733835         1.000000  \n",
              "50%           40.753044         1.000000  \n",
              "75%           40.768055         2.000000  \n",
              "max          872.697628       208.000000  "
            ]
          },
          "execution_count": 11,
          "metadata": {},
          "output_type": "execute_result"
        }
      ],
      "source": [
        "X_train.describe()"
      ]
    },
    {
      "cell_type": "code",
      "execution_count": null,
      "metadata": {
        "id": "FPyrf0vbsiJs"
      },
      "outputs": [],
      "source": []
    }
  ],
  "metadata": {
    "kernelspec": {
      "display_name": "Python 3",
      "language": "python",
      "name": "python3"
    },
    "language_info": {
      "codemirror_mode": {
        "name": "ipython",
        "version": 3
      },
      "file_extension": ".py",
      "mimetype": "text/x-python",
      "name": "python",
      "nbconvert_exporter": "python",
      "pygments_lexer": "ipython3",
      "version": "3.11.6"
    },
    "orig_nbformat": 4,
    "colab": {
      "provenance": []
    }
  },
  "nbformat": 4,
  "nbformat_minor": 0
}